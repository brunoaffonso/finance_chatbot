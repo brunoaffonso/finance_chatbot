{
 "cells": [
  {
   "cell_type": "code",
   "execution_count": null,
   "id": "initial_id",
   "metadata": {
    "ExecuteTime": {
     "end_time": "2024-05-01T17:22:37.265933Z",
     "start_time": "2024-05-01T17:22:37.260581Z"
    }
   },
   "outputs": [],
   "source": [
    "import yfinance as yf\n",
    "from openai import OpenAI\n",
    "from dotenv import load_dotenv\n",
    "import json\n",
    "load_dotenv()"
   ]
  },
  {
   "cell_type": "code",
   "execution_count": null,
   "id": "bbd75664d684b3a1",
   "metadata": {
    "ExecuteTime": {
     "end_time": "2024-05-01T17:25:25.984081Z",
     "start_time": "2024-05-01T17:25:25.980953Z"
    }
   },
   "outputs": [],
   "source": [
    "def get_stock_price(stock, period='1d'):\n",
    "    stock = yf.Ticker(f'{stock}')\n",
    "    hist = stock.history(period=period)\n",
    "    hist.index = hist.index.strftime('%m-%d-%Y')\n",
    "    return hist['Close'].to_json()"
   ]
  },
  {
   "cell_type": "code",
   "execution_count": null,
   "id": "f93ab446-e109-4c35-9197-bb89b7ab4120",
   "metadata": {
    "ExecuteTime": {
     "end_time": "2024-05-01T17:25:27.116852Z",
     "start_time": "2024-05-01T17:25:26.873622Z"
    }
   },
   "outputs": [],
   "source": [
    "client = OpenAI()"
   ]
  },
  {
   "cell_type": "code",
   "execution_count": null,
   "id": "b58da0b925f8661",
   "metadata": {
    "ExecuteTime": {
     "end_time": "2024-05-01T17:32:22.756438Z",
     "start_time": "2024-05-01T17:32:22.753224Z"
    }
   },
   "outputs": [],
   "source": [
    "message = 'Qual a variação das ações da Vale entre janeiro de 23 e hoje?'"
   ]
  },
  {
   "cell_type": "code",
   "execution_count": null,
   "id": "bca36cd16294b87d",
   "metadata": {
    "ExecuteTime": {
     "end_time": "2024-05-01T17:32:23.474395Z",
     "start_time": "2024-05-01T17:32:23.471410Z"
    }
   },
   "outputs": [],
   "source": [
    "messages = [{\n",
    "    'role': 'user',\n",
    "    'content': message\n",
    "}]"
   ]
  },
  {
   "cell_type": "code",
   "execution_count": null,
   "id": "e2f3759c870db203",
   "metadata": {
    "ExecuteTime": {
     "end_time": "2024-05-01T17:32:24.107138Z",
     "start_time": "2024-05-01T17:32:24.103184Z"
    }
   },
   "outputs": [],
   "source": [
    "tools = [\n",
    "    {\n",
    "        'type': 'function',\n",
    "        'function': {\n",
    "            'name': 'get_stock_price',\n",
    "            'description': 'Get the price of a stock',\n",
    "            'parameters': {\n",
    "                'type': 'object',\n",
    "                'properties': {\n",
    "                    'stock': {\n",
    "                        'type': 'string',\n",
    "                        'description': 'The stock code, e.g. ABEV3.SA'\n",
    "                    },\n",
    "                    'period': {\n",
    "                        'type': 'string',\n",
    "                        'description': 'The period of the stock price, e.g. 1d (1 day), 2mo (2 months), 1y (1 year)'\n",
    "                    }\n",
    "                },\n",
    "                'required': ['stock'],\n",
    "            }\n",
    "        }\n",
    "    }\n",
    "]"
   ]
  },
  {
   "cell_type": "code",
   "execution_count": null,
   "id": "658ce46270941d43",
   "metadata": {
    "ExecuteTime": {
     "end_time": "2024-05-01T17:32:26.988994Z",
     "start_time": "2024-05-01T17:32:24.706190Z"
    }
   },
   "outputs": [],
   "source": [
    "response = client.chat.completions.create(\n",
    "    model=\"gpt-3.5-turbo\",\n",
    "    messages=messages,\n",
    "    tools=tools,\n",
    "    tool_choice='auto'\n",
    ")"
   ]
  },
  {
   "cell_type": "code",
   "execution_count": null,
   "id": "59e35190a5e6106c",
   "metadata": {
    "ExecuteTime": {
     "end_time": "2024-05-01T17:32:26.994525Z",
     "start_time": "2024-05-01T17:32:26.990001Z"
    }
   },
   "outputs": [],
   "source": [
    "response"
   ]
  },
  {
   "cell_type": "code",
   "execution_count": null,
   "id": "8c39cc317c883abb",
   "metadata": {
    "ExecuteTime": {
     "end_time": "2024-05-01T17:32:26.999451Z",
     "start_time": "2024-05-01T17:32:26.995649Z"
    }
   },
   "outputs": [],
   "source": [
    "response_message = response.choices[0].message\n",
    "response_message"
   ]
  },
  {
   "cell_type": "code",
   "execution_count": null,
   "id": "95852f609a59c141",
   "metadata": {
    "ExecuteTime": {
     "end_time": "2024-05-01T17:32:27.004576Z",
     "start_time": "2024-05-01T17:32:27.000471Z"
    }
   },
   "outputs": [],
   "source": [
    "tool_calls = response_message.tool_calls\n",
    "tool_calls"
   ]
  },
  {
   "cell_type": "code",
   "execution_count": null,
   "id": "e9054e2e4501e8e0",
   "metadata": {
    "ExecuteTime": {
     "end_time": "2024-05-01T17:32:32.517348Z",
     "start_time": "2024-05-01T17:32:27.005580Z"
    }
   },
   "outputs": [],
   "source": [
    "if tool_calls:\n",
    "    available_functions = {\n",
    "        'get_stock_price': get_stock_price\n",
    "    }\n",
    "    messages.append(response_message)\n",
    "    for tool_call in tool_calls:\n",
    "        function_name = tool_call.function.name\n",
    "        function_to_call = available_functions[function_name]\n",
    "        function_args = json.loads(tool_call.function.arguments)\n",
    "        function_response = function_to_call(\n",
    "            stock=function_args.get('stock'),\n",
    "            period=function_args.get('period')\n",
    "        )\n",
    "        messages.append({\n",
    "            'tool_call_id': tool_call.id,\n",
    "            'role': 'tool',\n",
    "            'name': function_name,\n",
    "            'content': function_response\n",
    "        })\n",
    "second_response = client.chat.completions.create(\n",
    "    model=\"gpt-3.5-turbo\",\n",
    "    messages=messages,\n",
    ")"
   ]
  },
  {
   "cell_type": "code",
   "execution_count": null,
   "id": "cfd6a457af36f03d",
   "metadata": {
    "ExecuteTime": {
     "end_time": "2024-05-01T17:32:32.522909Z",
     "start_time": "2024-05-01T17:32:32.519187Z"
    }
   },
   "outputs": [],
   "source": [
    "second_response.choices[0].message.content"
   ]
  },
  {
   "cell_type": "code",
   "execution_count": null,
   "id": "97ca90e893c62318",
   "metadata": {
    "ExecuteTime": {
     "end_time": "2024-05-01T17:39:48.298230Z",
     "start_time": "2024-05-01T17:39:48.292282Z"
    }
   },
   "outputs": [],
   "source": [
    "def get_stock_analysis(message):\n",
    "    messages = [{\n",
    "        'role': 'user',\n",
    "        'content': message\n",
    "    }]\n",
    "    tools = [\n",
    "        {\n",
    "            'type': 'function',\n",
    "            'function': {\n",
    "                'name': 'get_stock_price',\n",
    "                'description': 'Get the price of a stock',\n",
    "                'parameters': {\n",
    "                    'type': 'object',\n",
    "                    'properties': {\n",
    "                        'stock': {\n",
    "                            'type': 'string',\n",
    "                            'description': 'The stock code, e.g. ABEV3.SA'\n",
    "                        },\n",
    "                        'period': {\n",
    "                            'type': 'string',\n",
    "                            'description': 'The period of the stock price, e.g. 1d (1 day), 2mo (2 months), 1y (1 year)'\n",
    "                        }\n",
    "                    },\n",
    "                    'required': ['stock'],\n",
    "                }\n",
    "            }\n",
    "        }\n",
    "    ]\n",
    "    response = client.chat.completions.create(\n",
    "        model=\"gpt-3.5-turbo\",\n",
    "        messages=messages,\n",
    "        tools=tools,\n",
    "        tool_choice='auto'\n",
    "    )\n",
    "    response_message = response.choices[0].message\n",
    "    tool_calls = response_message.tool_calls\n",
    "    if tool_calls:\n",
    "        available_functions = {\n",
    "            'get_stock_price': get_stock_price\n",
    "        }\n",
    "        messages.append(response_message)\n",
    "        for tool_call in tool_calls:\n",
    "            function_name = tool_call.function.name\n",
    "            function_to_call = available_functions[function_name]\n",
    "            function_args = json.loads(tool_call.function.arguments)\n",
    "            function_response = function_to_call(\n",
    "                stock=function_args.get('stock'),\n",
    "                period=function_args.get('period')\n",
    "            )\n",
    "            messages.append({\n",
    "                'tool_call_id': tool_call.id,\n",
    "                'role': 'tool',\n",
    "                'name': function_name,\n",
    "                'content': function_response\n",
    "            })\n",
    "    second_response = client.chat.completions.create(\n",
    "        model=\"gpt-3.5-turbo\",\n",
    "        messages=messages,\n",
    "    )\n",
    "    return second_response.choices[0].message.content\n",
    "    "
   ]
  },
  {
   "cell_type": "code",
   "execution_count": null,
   "id": "214b8af7e1c49f6b",
   "metadata": {
    "ExecuteTime": {
     "end_time": "2024-05-01T18:55:21.076304Z",
     "start_time": "2024-05-01T18:55:16.342280Z"
    }
   },
   "outputs": [],
   "source": [
    "get_stock_analysis('Qual a variação da ação da Weg nos ultimos 10 meses?')"
   ]
  },
  {
   "cell_type": "code",
   "execution_count": null,
   "id": "479379919eb4d997",
   "metadata": {
    "ExecuteTime": {
     "end_time": "2024-05-01T18:58:31.705146Z",
     "start_time": "2024-05-01T18:57:48.375126Z"
    }
   },
   "outputs": [],
   "source": [
    "message = ''\n",
    "\n",
    "while message != 'exit':\n",
    "    message = input('O que você deseja saber? ')\n",
    "    if message != 'exit':\n",
    "        response = get_stock_analysis(message)\n",
    "        print(response)"
   ]
  },
  {
   "cell_type": "code",
   "execution_count": null,
   "id": "ddc4296444cf3cef",
   "metadata": {},
   "outputs": [],
   "source": []
  }
 ],
 "metadata": {
  "kernelspec": {
   "display_name": "Python 3 (ipykernel)",
   "language": "python",
   "name": "python3"
  },
  "language_info": {
   "codemirror_mode": {
    "name": "ipython",
    "version": 3
   },
   "file_extension": ".py",
   "mimetype": "text/x-python",
   "name": "python",
   "nbconvert_exporter": "python",
   "pygments_lexer": "ipython3",
   "version": "3.12.3"
  }
 },
 "nbformat": 4,
 "nbformat_minor": 5
}
